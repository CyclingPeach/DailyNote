{
 "cells": [
  {
   "cell_type": "markdown",
   "metadata": {},
   "source": [
    "# 地址\n",
    "[交互式图解人工智能 (AI)](https://okai.brown.edu/zh/index.html)"
   ]
  },
  {
   "cell_type": "markdown",
   "metadata": {},
   "source": [
    "# 手写数字识别项目"
   ]
  },
  {
   "cell_type": "markdown",
   "metadata": {},
   "source": [
    "## Import libraries"
   ]
  },
  {
   "cell_type": "code",
   "execution_count": 3,
   "metadata": {},
   "outputs": [
    {
     "name": "stderr",
     "output_type": "stream",
     "text": [
      "2022-05-19 20:38:40.584573: W tensorflow/stream_executor/platform/default/dso_loader.cc:64] Could not load dynamic library 'libcudart.so.11.0'; dlerror: libcudart.so.11.0: cannot open shared object file: No such file or directory\n",
      "2022-05-19 20:38:40.584606: I tensorflow/stream_executor/cuda/cudart_stub.cc:29] Ignore above cudart dlerror if you do not have a GPU set up on your machine.\n"
     ]
    }
   ],
   "source": [
    "import tensorflow as tf                 # deep learning library     深度学习库\n",
    "from matplotlib import pyplot as plt    # image plotting library    图像绘制库\n",
    "import numpy as np                      # used to extract classes from logits       "
   ]
  },
  {
   "cell_type": "markdown",
   "metadata": {},
   "source": [
    "## Load data and Train model"
   ]
  },
  {
   "cell_type": "code",
   "execution_count": 5,
   "metadata": {},
   "outputs": [
    {
     "name": "stdout",
     "output_type": "stream",
     "text": [
      "training:\n"
     ]
    },
    {
     "name": "stderr",
     "output_type": "stream",
     "text": [
      "2022-05-19 21:06:26.405040: W tensorflow/core/framework/cpu_allocator_impl.cc:82] Allocation of 188160000 exceeds 10% of free system memory.\n"
     ]
    },
    {
     "name": "stdout",
     "output_type": "stream",
     "text": [
      "Epoch 1/5\n",
      "600/600 [==============================] - 4s 5ms/step - loss: 0.2518 - accuracy: 0.9229\n",
      "Epoch 2/5\n",
      "600/600 [==============================] - 3s 5ms/step - loss: 0.0915 - accuracy: 0.9729\n",
      "Epoch 3/5\n",
      "600/600 [==============================] - 3s 5ms/step - loss: 0.0609 - accuracy: 0.9816\n",
      "Epoch 4/5\n",
      "600/600 [==============================] - 3s 5ms/step - loss: 0.0457 - accuracy: 0.9866\n",
      "Epoch 5/5\n",
      "600/600 [==============================] - 3s 6ms/step - loss: 0.0339 - accuracy: 0.9897\n",
      "\n",
      "testing:\n",
      "313/313 [==============================] - 1s 3ms/step - loss: 0.0759 - accuracy: 0.9772\n",
      "\n",
      "accuracy: 97.72%\n"
     ]
    }
   ],
   "source": [
    "# Construct model   构建模型\n",
    "model = tf.keras.models.Sequential([\n",
    "    tf.keras.layers.Flatten(),                              # flatten the 28 by 28 picture to 1 by 784      将28乘28的图片平铺为1乘784的图片\n",
    "    tf.keras.layers.Dense(500, activation=tf.nn.relu),      # A relu layer with 500 weights                 一个有500个权重的 ReLU 层\n",
    "    tf.keras.layers.Dense(10,  activation=tf.nn.softmax)    # A softmax layer that generates probabilities  生成概率的 Softmax 层\n",
    "])\n",
    "\n",
    "sgd = tf.keras.optimizers.SGD(lr=0.7)   # Stochastic Gradient Descent with Learning Rate of 0.7             学习率为 0.7 的随机梯度下降算法\n",
    "\n",
    "model.compile(\n",
    "    optimizer = sgd,\n",
    "    loss      = 'sparse_categorical_crossentropy',     # Loss function is a special version of cross entropy   损失函数是交叉熵的一个特殊版本\n",
    "    metrics   = ['accuracy']        # 评估指标\n",
    ")\n",
    "\n",
    "'''\n",
    "optimizers      优化器\n",
    "compile         编译\n",
    "metrics         指标、评估指标\n",
    "'''\n",
    "\n",
    "# Load data\n",
    "mnist = tf.keras.datasets.mnist\n",
    "(x_train, y_train),(x_test, y_test) = mnist.load_data()\n",
    "x_train, x_test = x_train / 255, x_test / 255\n",
    "\n",
    "\n",
    "'''\n",
    "batch_size      单次训练用的样本数  \n",
    "                相对于正常数据集，如果过小，训练数据就收敛困难；过大，虽然相对处理速度加快，但所需内存容量增加。\n",
    "\n",
    "epoch           完成一次全部训练样本        \n",
    "'''\n",
    "\n",
    "\n",
    "# Train model\n",
    "print(\"training:\")\n",
    "# trains with batch size of 100 and trains over the data 2 times\n",
    "# 单次训练样本数为 100，对数据进行 2 次训练\n",
    "model.fit(x_train, y_train, batch_size=100, epochs=5)   \n",
    "'''\n",
    "History = model.fit(x, y, batch_size=数值, epochs=数值, verbose=数值, validation_split=数值, validation_data=None, validation_freq=数值)\n",
    "\n",
    "model.fit()     将训练数据在模型中训练一定迭代次数, 返回一个历史训练数据, 即loss和测量指标.\n",
    "    x_train         训练数据的输入\n",
    "    y_train         训练数据的输出\n",
    "    batch_size      训练一次网络所用的样本数\n",
    "                    指定进行梯度下降时每个batch包含的样本数。训练时一个batch的样本会被计算一次梯度下降, 使目标函数优化一步。\n",
    "    epochs          迭代次数\n",
    "'''\n",
    "\n",
    "'''\n",
    "    loss                是我们预先设定的损失函数计算得到的损失值\n",
    "    accuracy    准确率   是模型在数据集上基于给定 label 得到的评估结果\n",
    "'''\n",
    "\n",
    "print(\"\\ntesting:\")\n",
    "loss, accuracy = model.evaluate(x_test, y_test)         # Checks accuracy\n",
    "\n",
    "print(\"\\naccuracy: {:2.2f}%\".format(accuracy * 100))"
   ]
  },
  {
   "cell_type": "markdown",
   "metadata": {},
   "source": [
    "## Set up visualization"
   ]
  },
  {
   "cell_type": "code",
   "execution_count": 6,
   "metadata": {},
   "outputs": [
    {
     "name": "stdout",
     "output_type": "stream",
     "text": [
      "Everything's ready. Please proceed to visualizing the predictions. \n"
     ]
    }
   ],
   "source": [
    "def display(i):\n",
    "    plt.axis('off')\n",
    "    plt.imshow(x_test[i], cmap='gray')\n",
    "    print(\"image:\")\n",
    "    plt.show()\n",
    "    \n",
    "    prob = np.max(model.predict(x_test[i:i+1])) * 100       # Probability   概率, 可能性\n",
    "    pred = np.argmax(model.predict(x_test[i:i+1]))          # \n",
    "    print(\"The model is {:2.2f}% sure it is {}\".format(prob, pred))\n",
    "    \n",
    "    print(\"real value: {}\".format(y_test[i]))\n",
    "    print()\n",
    "\n",
    "# 一切都准备好了。请继续可视化预测。\n",
    "'''\n",
    "    proceed   继续\n",
    "'''\n",
    "\n",
    "print(\"Everything's ready. Please proceed to visualizing the predictions. \")"
   ]
  },
  {
   "cell_type": "markdown",
   "metadata": {},
   "source": [
    "## Visualize data and predictions"
   ]
  },
  {
   "cell_type": "code",
   "execution_count": 15,
   "metadata": {},
   "outputs": [
    {
     "name": "stdout",
     "output_type": "stream",
     "text": [
      "image:\n"
     ]
    },
    {
     "data": {
      "image/png": "[encoded data removed]",
      "text/plain": [
       "<Figure size 432x288 with 1 Axes>"
      ]
     },
     "metadata": {
      "needs_background": "light"
     },
     "output_type": "display_data"
    },
    {
     "name": "stdout",
     "output_type": "stream",
     "text": [
      "1/1 [==============================] - 0s 36ms/step\n",
      "1/1 [==============================] - 0s 28ms/step\n",
      "The model is 99.89% sure it is 7\n",
      "real value: 7\n",
      "\n",
      "image:\n"
     ]
    },
    {
     "data": {
      "image/png": "[encoded data removed]",
      "text/plain": [
       "<Figure size 432x288 with 1 Axes>"
      ]
     },
     "metadata": {
      "needs_background": "light"
     },
     "output_type": "display_data"
    },
    {
     "name": "stdout",
     "output_type": "stream",
     "text": [
      "1/1 [==============================] - 0s 34ms/step\n",
      "1/1 [==============================] - 0s 29ms/step\n",
      "The model is 100.00% sure it is 6\n",
      "real value: 6\n",
      "\n"
     ]
    }
   ],
   "source": [
    "# Test Sample Number\n",
    "i = 80\n",
    "\n",
    "display(i)\n",
    "display(9999)"
   ]
  },
  {
   "cell_type": "markdown",
   "metadata": {},
   "source": [
    "## Wrong Predictions"
   ]
  },
  {
   "cell_type": "code",
   "execution_count": 10,
   "metadata": {},
   "outputs": [
    {
     "name": "stdout",
     "output_type": "stream",
     "text": [
      "image:\n"
     ]
    },
    {
     "data": {
      "image/png": "[encoded data removed]",
      "text/plain": [
       "<Figure size 432x288 with 1 Axes>"
      ]
     },
     "metadata": {
      "needs_background": "light"
     },
     "output_type": "display_data"
    },
    {
     "name": "stdout",
     "output_type": "stream",
     "text": [
      "1/1 [==============================] - 0s 31ms/step\n",
      "1/1 [==============================] - 0s 21ms/step\n",
      "The model is 93.70% sure it is 2\n",
      "real value: 4\n",
      "\n"
     ]
    }
   ],
   "source": [
    "# title Example of Wrong Prediction\n",
    "'''\n",
    "Note that this is very different from a normally written 4 (somewhat similar to a 2), \n",
    "so most models will think it is a 2 rather than a 4\n",
    "'''\n",
    "\n",
    "display(247)"
   ]
  }
 ],
 "metadata": {
  "interpreter": {
   "hash": "916dbcbb3f70747c44a77c7bcd40155683ae19c65e1c03b4aa3499c5328201f1"
  },
  "kernelspec": {
   "display_name": "Python 3.8.10 64-bit",
   "language": "python",
   "name": "python3"
  },
  "language_info": {
   "codemirror_mode": {
    "name": "ipython",
    "version": 3
   },
   "file_extension": ".py",
   "mimetype": "text/x-python",
   "name": "python",
   "nbconvert_exporter": "python",
   "pygments_lexer": "ipython3",
   "version": "3.8.10"
  },
  "orig_nbformat": 4
 },
 "nbformat": 4,
 "nbformat_minor": 2
}
